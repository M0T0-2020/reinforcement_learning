{
 "cells": [
  {
   "cell_type": "code",
   "execution_count": 1,
   "metadata": {},
   "outputs": [],
   "source": [
    "import os, sys \n",
    "import pandas as pd\n",
    "import numpy as np\n",
    "import matplotlib.pyplot as plt\n",
    "import seaborn as sns\n",
    "\n",
    "import gym\n",
    "\n",
    "import warnings\n",
    "warnings.filterwarnings('ignore')"
   ]
  },
  {
   "cell_type": "code",
   "execution_count": 2,
   "metadata": {},
   "outputs": [],
   "source": [
    "sys.path.append('/Users/kanoumotoharu/Desktop/machine_learning/強化学習/実験コード/RL_algorithms/DQN/')\n",
    "from agent import  Agent"
   ]
  },
  {
   "cell_type": "code",
   "execution_count": 3,
   "metadata": {},
   "outputs": [],
   "source": [
    "class Environment:\n",
    "    def get_state(self, env, _obs):\n",
    "        env_low = env.observation_space.low \n",
    "        env_high = env.observation_space.high \n",
    "        # normalize\n",
    "        state = (_obs - env_low)/(env_high - env_low)\n",
    "        return state.tolist()\n",
    "\n",
    "    def get_reward(self, env, _obs, reward):\n",
    "        reward = float(_obs[0])\n",
    "        #reward = float(reward)\n",
    "        #env_low = env.observation_space.low \n",
    "        #env_high = env.observation_space.high \n",
    "        # normalize\n",
    "        #state = (_obs - env_low)/(env_high - env_low)\n",
    "        return reward\n",
    "    def get_action(self,env, action):\n",
    "        action = int(action)\n",
    "\n",
    "        return action\n",
    "\n",
    "    def get_data(self, env, obs, next_obs, reward, action):\n",
    "        state = self.get_state(env, obs)\n",
    "        next_state = self.get_state(env, next_obs)\n",
    "        low = env.observation_space.low[0]\n",
    "        high = env.observation_space.high[0]\n",
    "        reward = float((next_obs[0]-low)/(high-low))\n",
    "        reward = 2*reward-1\n",
    "        \n",
    "        if next_obs[0]>=env.observation_space.high[0]-0.1:\n",
    "            reward*=10\n",
    "        #reward = self.get_reward(env, reward)\n",
    "        action = self.get_action(env, action)\n",
    "\n",
    "        return state, action, next_state, reward"
   ]
  },
  {
   "cell_type": "code",
   "execution_count": 4,
   "metadata": {},
   "outputs": [],
   "source": [
    "#make env\n",
    "env = gym.make('MountainCar-v0')"
   ]
  },
  {
   "cell_type": "code",
   "execution_count": null,
   "metadata": {},
   "outputs": [],
   "source": [
    "action_space = env.action_space.n\n",
    "agent = Agent(action_space=action_space, environment=Environment())"
   ]
  },
  {
   "cell_type": "code",
   "execution_count": null,
   "metadata": {},
   "outputs": [
    {
     "data": {
      "text/plain": [
       "[<matplotlib.lines.Line2D at 0x1351033c8>]"
      ]
     },
     "execution_count": 6,
     "metadata": {},
     "output_type": "execute_result"
    },
    {
     "data": {
      "image/png": "[encoded data removed]",
      "text/plain": [
       "<Figure size 432x288 with 1 Axes>"
      ]
     },
     "metadata": {
      "needs_background": "light"
     },
     "output_type": "display_data"
    }
   ],
   "source": [
    "# 楽観的初期化\n",
    "loss_list = agent.init_param_optim(100, env)\n",
    "plt.plot(loss_list)"
   ]
  },
  {
   "cell_type": "code",
   "execution_count": null,
   "metadata": {},
   "outputs": [],
   "source": [
    "actions = []\n",
    "rewards = []\n",
    "loss = []\n",
    "\n",
    "# 10000エピソードで学習する\n",
    "for episode in range(500):\n",
    "    total_reward = 0\n",
    "    observation = env.reset()\n",
    "    for _ in range(700):\n",
    "        env.render()\n",
    "        # ε-グリーディ法で行動を選択\n",
    "        action =  agent.get_action(env, observation)\n",
    "        actions.append(action)\n",
    "        next_observation, reward, done, _ = env.step(action)\n",
    "        total_reward += reward\n",
    "        _loss = agent.update_agent(env, observation, next_observation, reward, action)\n",
    "        if _loss>0:\n",
    "            loss.append(_loss)\n",
    "        observation = next_observation\n",
    "        if observation[0]>=env.observation_space.high[0]-0.001:\n",
    "            rewards.append(total_reward)\n",
    "            # doneがTrueになったら１エピソード終了\n",
    "            if episode%100 == 0:\n",
    "                if episode==0:\n",
    "                    mean_total_reward = total_reward\n",
    "                else:\n",
    "                    m = episode//100\n",
    "                    mean_total_reward = np.mean(rewards[(m-1)*100:m*100])\n",
    "                print(f'episode: {episode}, total_reward　mean: {mean_total_reward}')\n",
    "            break"
   ]
  },
  {
   "cell_type": "code",
   "execution_count": null,
   "metadata": {},
   "outputs": [],
   "source": [
    "env.close()"
   ]
  },
  {
   "cell_type": "code",
   "execution_count": null,
   "metadata": {},
   "outputs": [],
   "source": [
    "#agent.policy_net.state_dict()"
   ]
  },
  {
   "cell_type": "code",
   "execution_count": null,
   "metadata": {},
   "outputs": [],
   "source": [
    "loss_df = pd.DataFrame(loss, columns=['loss'])\n",
    "reward_df = pd.DataFrame(rewards, columns=['reward'])\n",
    "\n",
    "loss_df['loss_r30'] = loss_df['loss'].rolling(30,min_periods=1).mean()\n",
    "reward_df['reward_r30'] = reward_df['reward'].rolling(30,min_periods=1).mean()"
   ]
  },
  {
   "cell_type": "code",
   "execution_count": null,
   "metadata": {},
   "outputs": [],
   "source": [
    "plt.figure(figsize=(30,5))\n",
    "plt.plot(loss_df['loss_r30'])\n",
    "plt.tilte('Loss')\n",
    "plt.show()\n",
    "\n",
    "plt.figure(figsize=(30,5))\n",
    "plt.plot(reward_df['reward_r30'])\n",
    "plt.tilte('Reward')\n",
    "plt.show()"
   ]
  },
  {
   "cell_type": "code",
   "execution_count": null,
   "metadata": {},
   "outputs": [],
   "source": []
  }
 ],
 "metadata": {
  "kernelspec": {
   "display_name": "Python 3",
   "language": "python",
   "name": "python3"
  },
  "language_info": {
   "codemirror_mode": {
    "name": "ipython",
    "version": 3
   },
   "file_extension": ".py",
   "mimetype": "text/x-python",
   "name": "python",
   "nbconvert_exporter": "python",
   "pygments_lexer": "ipython3",
   "version": "3.6.5"
  }
 },
 "nbformat": 4,
 "nbformat_minor": 2
}
