{
 "cells": [
  {
   "cell_type": "code",
   "execution_count": 1,
   "metadata": {},
   "outputs": [],
   "source": [
    "import os, sys \n",
    "import pandas as pd\n",
    "import numpy as np\n",
    "import matplotlib.pyplot as plt\n",
    "import seaborn as sns\n",
    "\n",
    "import torch\n",
    "from torch.distributions import Categorical\n",
    "\n",
    "import gym\n",
    "\n",
    "import warnings\n",
    "warnings.filterwarnings('ignore')"
   ]
  },
  {
   "cell_type": "code",
   "execution_count": 2,
   "metadata": {},
   "outputs": [],
   "source": [
    "sys.path.append('/Users/kanoumotoharu/Desktop/machine_learning/強化学習/実験コード/RL_algorithms/A2C_2/')\n",
    "from agent import  Agent\n",
    "sys.path.append('/Users/kanoumotoharu/Desktop/machine_learning/強化学習/実験コード/RL_algorithms/Memory/')\n",
    "from PrioritizedExperienceMemoryNsplit_add_value import ProportionalReplayNsplitMemory, RankReplayNsplitMemory"
   ]
  },
  {
   "cell_type": "code",
   "execution_count": 13,
   "metadata": {},
   "outputs": [],
   "source": [
    "class Environment:\n",
    "    def get_state(self, env, _obs):\n",
    "        env_low = env.observation_space.low \n",
    "        env_high = env.observation_space.high \n",
    "        # normalize\n",
    "        state = (_obs - env_low)/(env_high - env_low)\n",
    "        return state.tolist()\n",
    "\n",
    "    def get_reward(self, env, obs, next_obs, reward, action):\n",
    "        low = env.observation_space.low[0]\n",
    "        high = env.observation_space.high[0]\n",
    "        \n",
    "        reward = float((next_obs[0]-low)/(high-low))\n",
    "        return reward\n",
    "    \n",
    "    def get_value(self, env, obs, next_obs, reward, action):\n",
    "        low = env.observation_space.low[0]\n",
    "        high = env.observation_space.high[0]\n",
    "        \n",
    "        value = float((next_obs[0]-low)/(high-low))\n",
    "        value/=2\n",
    "        if value<0.7:\n",
    "            value = 0\n",
    "        if value>0.9:\n",
    "            value *= 2\n",
    "        return value\n",
    "    \n",
    "    def get_action(self,env, action):\n",
    "        action = int(action)\n",
    "        return action\n",
    "\n",
    "    def get_data(self, env, obs, next_obs, reward, action):\n",
    "        state = self.get_state(env, obs)\n",
    "        action = self.get_action(env, action)\n",
    "        next_state = self.get_state(env, next_obs)\n",
    "        reward = self.get_reward(env, obs, next_obs, reward, action)\n",
    "        value = self.get_value(env, obs, next_obs, reward, action)\n",
    "\n",
    "        return state, action, next_state, reward, value"
   ]
  },
  {
   "cell_type": "code",
   "execution_count": 14,
   "metadata": {},
   "outputs": [],
   "source": [
    "#make env\n",
    "env = gym.make('MountainCar-v0')"
   ]
  },
  {
   "cell_type": "code",
   "execution_count": 15,
   "metadata": {},
   "outputs": [],
   "source": [
    "action_space = env.action_space.n\n",
    "environment = Environment()\n",
    "#replay_memory = Replay_Memory(100000)\n",
    "replay_memory = ProportionalReplayNsplitMemory(1000,n=60)\n",
    "#replay_memory = RankReplayNsplitMemory(2000,n=60, alpha=0)\n",
    "agent = Agent(action_space=action_space, nSplit=True, sam=True)"
   ]
  },
  {
   "cell_type": "code",
   "execution_count": 16,
   "metadata": {},
   "outputs": [
    {
     "data": {
      "text/plain": [
       "[<matplotlib.lines.Line2D at 0x132143470>]"
      ]
     },
     "execution_count": 16,
     "metadata": {},
     "output_type": "execute_result"
    },
    {
     "data": {
      "image/png": "[encoded data removed]",
      "text/plain": [
       "<Figure size 432x288 with 1 Axes>"
      ]
     },
     "metadata": {
      "needs_background": "light"
     },
     "output_type": "display_data"
    }
   ],
   "source": [
    "# 楽観的初期化\n",
    "loss_list = agent.init_param_optim(70, env, environment)\n",
    "plt.plot(loss_list)"
   ]
  },
  {
   "cell_type": "code",
   "execution_count": 17,
   "metadata": {},
   "outputs": [],
   "source": [
    "actions = []\n",
    "rewards = []\n",
    "values = []\n",
    "loss = []"
   ]
  },
  {
   "cell_type": "code",
   "execution_count": null,
   "metadata": {},
   "outputs": [],
   "source": [
    "# 10000エピソードで学習する\n",
    "for episode in range(10):\n",
    "    total_reward = 0\n",
    "    total_value = 0\n",
    "    observation = env.reset()\n",
    "    for _ in range(5000):\n",
    "        env.render()\n",
    "        \n",
    "        # ε-グリーディ法で行動を選択        \n",
    "        now_state = environment.get_state(env, observation)\n",
    "        now_state = torch.FloatTensor([now_state])\n",
    "        action =  agent.get_action(now_state)\n",
    "        actions.append(action)\n",
    "        \n",
    "        #環境を取得\n",
    "        next_observation, reward, done, _ = env.step(action)\n",
    "        \n",
    "        # observe environment data\n",
    "        state, action, next_state, reward, value = environment.get_data(env, observation, next_observation, reward, action)\n",
    "        replay_memory.push(state, action, next_state, reward, value)\n",
    "\n",
    "        #optim parameters\n",
    "        _loss = agent.update_agent(replay_memory)\n",
    "        total_reward += reward\n",
    "        total_value += value\n",
    "        \n",
    "        if _loss is not None:\n",
    "            loss.append(_loss)\n",
    "        observation = next_observation\n",
    "        if observation[0]>=env.observation_space.high[0]-0.001:\n",
    "            # doneがTrueになったら１エピソード終了\n",
    "            if episode%100 == 0:\n",
    "                if episode==0:\n",
    "                    mean_total_reward = total_reward\n",
    "                else:\n",
    "                    m = episode//100\n",
    "                    mean_total_reward = np.mean(rewards[(m-1)*100:m*100])\n",
    "                print(f'episode: {episode}, total_reward　mean: {mean_total_reward}')\n",
    "            break\n",
    "    rewards.append(total_reward)\n",
    "    values.append(total_value)"
   ]
  },
  {
   "cell_type": "code",
   "execution_count": 9,
   "metadata": {},
   "outputs": [
    {
     "data": {
      "text/plain": [
       "(0.35264539463400435, 0)"
      ]
     },
     "execution_count": 9,
     "metadata": {},
     "output_type": "execute_result"
    }
   ],
   "source": [
    "reward, value"
   ]
  },
  {
   "cell_type": "code",
   "execution_count": 10,
   "metadata": {},
   "outputs": [],
   "source": [
    "env.close()"
   ]
  },
  {
   "cell_type": "code",
   "execution_count": 11,
   "metadata": {},
   "outputs": [],
   "source": [
    "#agent.policy_net.state_dict()"
   ]
  },
  {
   "cell_type": "code",
   "execution_count": 12,
   "metadata": {},
   "outputs": [],
   "source": [
    "loss_df = pd.DataFrame(loss, columns=['loss'])\n",
    "reward_df = pd.DataFrame(rewards, columns=['reward'])\n",
    "action_df = pd.DataFrame(actions, columns=['action'])\n",
    "\n",
    "loss_df['loss_r30'] = loss_df['loss'].rolling(30,min_periods=1).mean()\n",
    "reward_df['reward_r30'] = reward_df['reward'].rolling(30,min_periods=1).mean()\n",
    "action_df['action'] = action_df['action'].map({0:\"push left\", 1:\"no push\", 2:\"push right\"})"
   ]
  },
  {
   "cell_type": "code",
   "execution_count": 13,
   "metadata": {},
   "outputs": [
    {
     "data": {
      "image/png": "[encoded data removed]",
      "text/plain": [
       "<Figure size 2160x360 with 1 Axes>"
      ]
     },
     "metadata": {
      "needs_background": "light"
     },
     "output_type": "display_data"
    },
    {
     "data": {
      "image/png": "[encoded data removed]",
      "text/plain": [
       "<Figure size 2160x360 with 1 Axes>"
      ]
     },
     "metadata": {
      "needs_background": "light"
     },
     "output_type": "display_data"
    },
    {
     "data": {
      "image/png": "[encoded data removed]",
      "text/plain": [
       "<Figure size 720x360 with 1 Axes>"
      ]
     },
     "metadata": {
      "needs_background": "light"
     },
     "output_type": "display_data"
    }
   ],
   "source": [
    "plt.figure(figsize=(30,5))\n",
    "plt.plot(loss_df['loss_r30'])\n",
    "plt.title('Loss')\n",
    "plt.show()\n",
    "\n",
    "plt.figure(figsize=(30,5))\n",
    "plt.plot(reward_df['reward_r30'])\n",
    "plt.title('Reward')\n",
    "plt.show()\n",
    "\n",
    "plt.figure(figsize=(10,5))\n",
    "sns.countplot(action_df[\"action\"], order=[\"push left\", \"no push\",\"push right\"])\n",
    "plt.title(\"action  count\")\n",
    "plt.show()"
   ]
  },
  {
   "cell_type": "code",
   "execution_count": 14,
   "metadata": {},
   "outputs": [
    {
     "ename": "KeyboardInterrupt",
     "evalue": "",
     "output_type": "error",
     "traceback": [
      "\u001b[0;31m---------------------------------------------------------------------------\u001b[0m",
      "\u001b[0;31mKeyboardInterrupt\u001b[0m                         Traceback (most recent call last)",
      "\u001b[0;32m<ipython-input-14-56bb16d8dcea>\u001b[0m in \u001b[0;36m<module>\u001b[0;34m\u001b[0m\n\u001b[1;32m      4\u001b[0m     \u001b[0mobservation\u001b[0m \u001b[0;34m=\u001b[0m \u001b[0menv\u001b[0m\u001b[0;34m.\u001b[0m\u001b[0mreset\u001b[0m\u001b[0;34m(\u001b[0m\u001b[0;34m)\u001b[0m\u001b[0;34m\u001b[0m\u001b[0m\n\u001b[1;32m      5\u001b[0m     \u001b[0;32mfor\u001b[0m \u001b[0m_\u001b[0m \u001b[0;32min\u001b[0m \u001b[0mrange\u001b[0m\u001b[0;34m(\u001b[0m\u001b[0;36m1000\u001b[0m\u001b[0;34m)\u001b[0m\u001b[0;34m:\u001b[0m\u001b[0;34m\u001b[0m\u001b[0m\n\u001b[0;32m----> 6\u001b[0;31m         \u001b[0menv\u001b[0m\u001b[0;34m.\u001b[0m\u001b[0mrender\u001b[0m\u001b[0;34m(\u001b[0m\u001b[0;34m)\u001b[0m\u001b[0;34m\u001b[0m\u001b[0m\n\u001b[0m\u001b[1;32m      7\u001b[0m \u001b[0;34m\u001b[0m\u001b[0m\n\u001b[1;32m      8\u001b[0m         \u001b[0;31m# ε-グリーディ法で行動を選択\u001b[0m\u001b[0;34m\u001b[0m\u001b[0;34m\u001b[0m\u001b[0m\n",
      "\u001b[0;32m/Library/Frameworks/Python.framework/Versions/3.6/lib/python3.6/site-packages/gym/core.py\u001b[0m in \u001b[0;36mrender\u001b[0;34m(self, mode, **kwargs)\u001b[0m\n\u001b[1;32m    238\u001b[0m \u001b[0;34m\u001b[0m\u001b[0m\n\u001b[1;32m    239\u001b[0m     \u001b[0;32mdef\u001b[0m \u001b[0mrender\u001b[0m\u001b[0;34m(\u001b[0m\u001b[0mself\u001b[0m\u001b[0;34m,\u001b[0m \u001b[0mmode\u001b[0m\u001b[0;34m=\u001b[0m\u001b[0;34m'human'\u001b[0m\u001b[0;34m,\u001b[0m \u001b[0;34m**\u001b[0m\u001b[0mkwargs\u001b[0m\u001b[0;34m)\u001b[0m\u001b[0;34m:\u001b[0m\u001b[0;34m\u001b[0m\u001b[0m\n\u001b[0;32m--> 240\u001b[0;31m         \u001b[0;32mreturn\u001b[0m \u001b[0mself\u001b[0m\u001b[0;34m.\u001b[0m\u001b[0menv\u001b[0m\u001b[0;34m.\u001b[0m\u001b[0mrender\u001b[0m\u001b[0;34m(\u001b[0m\u001b[0mmode\u001b[0m\u001b[0;34m,\u001b[0m \u001b[0;34m**\u001b[0m\u001b[0mkwargs\u001b[0m\u001b[0;34m)\u001b[0m\u001b[0;34m\u001b[0m\u001b[0m\n\u001b[0m\u001b[1;32m    241\u001b[0m \u001b[0;34m\u001b[0m\u001b[0m\n\u001b[1;32m    242\u001b[0m     \u001b[0;32mdef\u001b[0m \u001b[0mclose\u001b[0m\u001b[0;34m(\u001b[0m\u001b[0mself\u001b[0m\u001b[0;34m)\u001b[0m\u001b[0;34m:\u001b[0m\u001b[0;34m\u001b[0m\u001b[0m\n",
      "\u001b[0;32m/Library/Frameworks/Python.framework/Versions/3.6/lib/python3.6/site-packages/gym/envs/classic_control/mountain_car.py\u001b[0m in \u001b[0;36mrender\u001b[0;34m(self, mode)\u001b[0m\n\u001b[1;32m    173\u001b[0m         \u001b[0mself\u001b[0m\u001b[0;34m.\u001b[0m\u001b[0mcartrans\u001b[0m\u001b[0;34m.\u001b[0m\u001b[0mset_rotation\u001b[0m\u001b[0;34m(\u001b[0m\u001b[0mmath\u001b[0m\u001b[0;34m.\u001b[0m\u001b[0mcos\u001b[0m\u001b[0;34m(\u001b[0m\u001b[0;36m3\u001b[0m \u001b[0;34m*\u001b[0m \u001b[0mpos\u001b[0m\u001b[0;34m)\u001b[0m\u001b[0;34m)\u001b[0m\u001b[0;34m\u001b[0m\u001b[0m\n\u001b[1;32m    174\u001b[0m \u001b[0;34m\u001b[0m\u001b[0m\n\u001b[0;32m--> 175\u001b[0;31m         \u001b[0;32mreturn\u001b[0m \u001b[0mself\u001b[0m\u001b[0;34m.\u001b[0m\u001b[0mviewer\u001b[0m\u001b[0;34m.\u001b[0m\u001b[0mrender\u001b[0m\u001b[0;34m(\u001b[0m\u001b[0mreturn_rgb_array\u001b[0m\u001b[0;34m=\u001b[0m\u001b[0mmode\u001b[0m \u001b[0;34m==\u001b[0m \u001b[0;34m'rgb_array'\u001b[0m\u001b[0;34m)\u001b[0m\u001b[0;34m\u001b[0m\u001b[0m\n\u001b[0m\u001b[1;32m    176\u001b[0m \u001b[0;34m\u001b[0m\u001b[0m\n\u001b[1;32m    177\u001b[0m     \u001b[0;32mdef\u001b[0m \u001b[0mget_keys_to_action\u001b[0m\u001b[0;34m(\u001b[0m\u001b[0mself\u001b[0m\u001b[0;34m)\u001b[0m\u001b[0;34m:\u001b[0m\u001b[0;34m\u001b[0m\u001b[0m\n",
      "\u001b[0;32m/Library/Frameworks/Python.framework/Versions/3.6/lib/python3.6/site-packages/gym/envs/classic_control/rendering.py\u001b[0m in \u001b[0;36mrender\u001b[0;34m(self, return_rgb_array)\u001b[0m\n\u001b[1;32m    108\u001b[0m         \u001b[0mself\u001b[0m\u001b[0;34m.\u001b[0m\u001b[0mtransform\u001b[0m\u001b[0;34m.\u001b[0m\u001b[0menable\u001b[0m\u001b[0;34m(\u001b[0m\u001b[0;34m)\u001b[0m\u001b[0;34m\u001b[0m\u001b[0m\n\u001b[1;32m    109\u001b[0m         \u001b[0;32mfor\u001b[0m \u001b[0mgeom\u001b[0m \u001b[0;32min\u001b[0m \u001b[0mself\u001b[0m\u001b[0;34m.\u001b[0m\u001b[0mgeoms\u001b[0m\u001b[0;34m:\u001b[0m\u001b[0;34m\u001b[0m\u001b[0m\n\u001b[0;32m--> 110\u001b[0;31m             \u001b[0mgeom\u001b[0m\u001b[0;34m.\u001b[0m\u001b[0mrender\u001b[0m\u001b[0;34m(\u001b[0m\u001b[0;34m)\u001b[0m\u001b[0;34m\u001b[0m\u001b[0m\n\u001b[0m\u001b[1;32m    111\u001b[0m         \u001b[0;32mfor\u001b[0m \u001b[0mgeom\u001b[0m \u001b[0;32min\u001b[0m \u001b[0mself\u001b[0m\u001b[0;34m.\u001b[0m\u001b[0monetime_geoms\u001b[0m\u001b[0;34m:\u001b[0m\u001b[0;34m\u001b[0m\u001b[0m\n\u001b[1;32m    112\u001b[0m             \u001b[0mgeom\u001b[0m\u001b[0;34m.\u001b[0m\u001b[0mrender\u001b[0m\u001b[0;34m(\u001b[0m\u001b[0;34m)\u001b[0m\u001b[0;34m\u001b[0m\u001b[0m\n",
      "\u001b[0;32m/Library/Frameworks/Python.framework/Versions/3.6/lib/python3.6/site-packages/gym/envs/classic_control/rendering.py\u001b[0m in \u001b[0;36mrender\u001b[0;34m(self)\u001b[0m\n\u001b[1;32m    178\u001b[0m         \u001b[0;32mfor\u001b[0m \u001b[0mattr\u001b[0m \u001b[0;32min\u001b[0m \u001b[0mreversed\u001b[0m\u001b[0;34m(\u001b[0m\u001b[0mself\u001b[0m\u001b[0;34m.\u001b[0m\u001b[0mattrs\u001b[0m\u001b[0;34m)\u001b[0m\u001b[0;34m:\u001b[0m\u001b[0;34m\u001b[0m\u001b[0m\n\u001b[1;32m    179\u001b[0m             \u001b[0mattr\u001b[0m\u001b[0;34m.\u001b[0m\u001b[0menable\u001b[0m\u001b[0;34m(\u001b[0m\u001b[0;34m)\u001b[0m\u001b[0;34m\u001b[0m\u001b[0m\n\u001b[0;32m--> 180\u001b[0;31m         \u001b[0mself\u001b[0m\u001b[0;34m.\u001b[0m\u001b[0mrender1\u001b[0m\u001b[0;34m(\u001b[0m\u001b[0;34m)\u001b[0m\u001b[0;34m\u001b[0m\u001b[0m\n\u001b[0m\u001b[1;32m    181\u001b[0m         \u001b[0;32mfor\u001b[0m \u001b[0mattr\u001b[0m \u001b[0;32min\u001b[0m \u001b[0mself\u001b[0m\u001b[0;34m.\u001b[0m\u001b[0mattrs\u001b[0m\u001b[0;34m:\u001b[0m\u001b[0;34m\u001b[0m\u001b[0m\n\u001b[1;32m    182\u001b[0m             \u001b[0mattr\u001b[0m\u001b[0;34m.\u001b[0m\u001b[0mdisable\u001b[0m\u001b[0;34m(\u001b[0m\u001b[0;34m)\u001b[0m\u001b[0;34m\u001b[0m\u001b[0m\n",
      "\u001b[0;32m/Library/Frameworks/Python.framework/Versions/3.6/lib/python3.6/site-packages/gym/envs/classic_control/rendering.py\u001b[0m in \u001b[0;36mrender1\u001b[0;34m(self)\u001b[0m\n\u001b[1;32m    300\u001b[0m         \u001b[0mglBegin\u001b[0m\u001b[0;34m(\u001b[0m\u001b[0mGL_LINE_LOOP\u001b[0m \u001b[0;32mif\u001b[0m \u001b[0mself\u001b[0m\u001b[0;34m.\u001b[0m\u001b[0mclose\u001b[0m \u001b[0;32melse\u001b[0m \u001b[0mGL_LINE_STRIP\u001b[0m\u001b[0;34m)\u001b[0m\u001b[0;34m\u001b[0m\u001b[0m\n\u001b[1;32m    301\u001b[0m         \u001b[0;32mfor\u001b[0m \u001b[0mp\u001b[0m \u001b[0;32min\u001b[0m \u001b[0mself\u001b[0m\u001b[0;34m.\u001b[0m\u001b[0mv\u001b[0m\u001b[0;34m:\u001b[0m\u001b[0;34m\u001b[0m\u001b[0m\n\u001b[0;32m--> 302\u001b[0;31m             \u001b[0mglVertex3f\u001b[0m\u001b[0;34m(\u001b[0m\u001b[0mp\u001b[0m\u001b[0;34m[\u001b[0m\u001b[0;36m0\u001b[0m\u001b[0;34m]\u001b[0m\u001b[0;34m,\u001b[0m \u001b[0mp\u001b[0m\u001b[0;34m[\u001b[0m\u001b[0;36m1\u001b[0m\u001b[0;34m]\u001b[0m\u001b[0;34m,\u001b[0m\u001b[0;36m0\u001b[0m\u001b[0;34m)\u001b[0m  \u001b[0;31m# draw each vertex\u001b[0m\u001b[0;34m\u001b[0m\u001b[0m\n\u001b[0m\u001b[1;32m    303\u001b[0m         \u001b[0mglEnd\u001b[0m\u001b[0;34m(\u001b[0m\u001b[0;34m)\u001b[0m\u001b[0;34m\u001b[0m\u001b[0m\n\u001b[1;32m    304\u001b[0m     \u001b[0;32mdef\u001b[0m \u001b[0mset_linewidth\u001b[0m\u001b[0;34m(\u001b[0m\u001b[0mself\u001b[0m\u001b[0;34m,\u001b[0m \u001b[0mx\u001b[0m\u001b[0;34m)\u001b[0m\u001b[0;34m:\u001b[0m\u001b[0;34m\u001b[0m\u001b[0m\n",
      "\u001b[0;32m/Library/Frameworks/Python.framework/Versions/3.6/lib/python3.6/site-packages/pyglet/gl/lib.py\u001b[0m in \u001b[0;36merrcheck\u001b[0;34m(result, func, arguments)\u001b[0m\n\u001b[1;32m     97\u001b[0m             \u001b[0mprint\u001b[0m\u001b[0;34m(\u001b[0m\u001b[0mname\u001b[0m\u001b[0;34m)\u001b[0m\u001b[0;34m\u001b[0m\u001b[0m\n\u001b[1;32m     98\u001b[0m \u001b[0;34m\u001b[0m\u001b[0m\n\u001b[0;32m---> 99\u001b[0;31m     \u001b[0;32mfrom\u001b[0m \u001b[0mpyglet\u001b[0m \u001b[0;32mimport\u001b[0m \u001b[0mgl\u001b[0m\u001b[0;34m\u001b[0m\u001b[0m\n\u001b[0m\u001b[1;32m    100\u001b[0m     \u001b[0mcontext\u001b[0m \u001b[0;34m=\u001b[0m \u001b[0mgl\u001b[0m\u001b[0;34m.\u001b[0m\u001b[0mcurrent_context\u001b[0m\u001b[0;34m\u001b[0m\u001b[0m\n\u001b[1;32m    101\u001b[0m     \u001b[0;32mif\u001b[0m \u001b[0;32mnot\u001b[0m \u001b[0mcontext\u001b[0m\u001b[0;34m:\u001b[0m\u001b[0;34m\u001b[0m\u001b[0m\n",
      "\u001b[0;32m/Library/Frameworks/Python.framework/Versions/3.6/lib/python3.6/importlib/_bootstrap.py\u001b[0m in \u001b[0;36m_handle_fromlist\u001b[0;34m(module, fromlist, import_, recursive)\u001b[0m\n",
      "\u001b[0;31mKeyboardInterrupt\u001b[0m: "
     ]
    }
   ],
   "source": [
    "# 10000エピソードで学習する\n",
    "for episode in range(10):\n",
    "    total_reward = 0\n",
    "    observation = env.reset()\n",
    "    for _ in range(1000):\n",
    "        env.render()\n",
    "        \n",
    "        # ε-グリーディ法で行動を選択        \n",
    "        now_state = environment.get_state(env, observation)\n",
    "        now_state = torch.FloatTensor([now_state])\n",
    "        action =  agent.get_action(now_state)\n",
    "        actions.append(action)\n",
    "        \n",
    "        next_observation, reward, done, _ = env.step(action)\n",
    "        total_reward += reward\n",
    "        observation = next_observation\n",
    "        if observation[0]>=env.observation_space.high[0]-0.001:\n",
    "            rewards.append(total_reward)\n",
    "            # doneがTrueになったら１エピソード終了\n",
    "            if episode%100 == 0:\n",
    "                if episode==0:\n",
    "                    mean_total_reward = total_reward\n",
    "                else:\n",
    "                    m = episode//100\n",
    "                    mean_total_reward = np.mean(rewards[(m-1)*100:m*100])\n",
    "                print(f'episode: {episode}, total_reward　mean: {mean_total_reward}')\n",
    "            break"
   ]
  },
  {
   "cell_type": "code",
   "execution_count": null,
   "metadata": {},
   "outputs": [],
   "source": [
    "env.close()\n"
   ]
  },
  {
   "cell_type": "code",
   "execution_count": null,
   "metadata": {},
   "outputs": [],
   "source": [
    "x = agent.model(now_state)['policy']\n",
    "print(x)\n",
    "a = Categorical(logits=x)\n",
    "print(a)\n",
    "print(a.entropy())"
   ]
  },
  {
   "cell_type": "code",
   "execution_count": null,
   "metadata": {},
   "outputs": [],
   "source": [
    "x"
   ]
  },
  {
   "cell_type": "code",
   "execution_count": null,
   "metadata": {},
   "outputs": [],
   "source": [
    "0.999**5000"
   ]
  },
  {
   "cell_type": "code",
   "execution_count": null,
   "metadata": {},
   "outputs": [],
   "source": [
    "torch.nn.LogSoftmax()(x)#(torch.nn.Softmax()(x))"
   ]
  },
  {
   "cell_type": "code",
   "execution_count": null,
   "metadata": {},
   "outputs": [],
   "source": [
    "a.probs, a.logits"
   ]
  },
  {
   "cell_type": "code",
   "execution_count": null,
   "metadata": {},
   "outputs": [],
   "source": [
    "a.sample()"
   ]
  },
  {
   "cell_type": "code",
   "execution_count": null,
   "metadata": {},
   "outputs": [],
   "source": [
    "now_state"
   ]
  },
  {
   "cell_type": "code",
   "execution_count": null,
   "metadata": {},
   "outputs": [],
   "source": [
    "low_0 = env.observation_space.low[0]\n",
    "high_0 = env.observation_space.high[0]\n",
    "low_1 = env.observation_space.low[1]\n",
    "high_1 = env.observation_space.high[1]\n",
    "\n",
    "df = []\n",
    "for x_0 in np.arange(low_0, high_0,0.05):\n",
    "    x=[]\n",
    "    tmp_df = pd.DataFrame(index=np.arange(low_1, high_1,0.01))\n",
    "    for x_1 in np.arange(low_1, high_1,0.01):\n",
    "        x.append([x_0, x_1])\n",
    "\n",
    "    x = torch.FloatTensor(x)\n",
    "    y = agent.model(x)['value'].detach().numpy().flatten()\n",
    "    tmp_df[x_0] = y\n",
    "    df.append(tmp_df)\n",
    "\n",
    "df = pd.concat(df, axis=1)\n",
    "plt.figure(figsize=(30,10))\n",
    "sns.heatmap(df, cmap='coolwarm')\n",
    "plt.show()"
   ]
  },
  {
   "cell_type": "code",
   "execution_count": null,
   "metadata": {},
   "outputs": [],
   "source": [
    "low_0 = env.observation_space.low[0]\n",
    "high_0 = env.observation_space.high[0]\n",
    "low_1 = env.observation_space.low[1]\n",
    "high_1 = env.observation_space.high[1]\n",
    "\n",
    "df = []\n",
    "for x_0 in np.arange(low_0, high_0,0.05):\n",
    "    x=[]\n",
    "    tmp_df = pd.DataFrame(index=np.arange(low_1, high_1,0.01))\n",
    "    for x_1 in np.arange(low_1, high_1,0.01):\n",
    "        x.append([x_0, x_1])\n",
    "\n",
    "    x = torch.FloatTensor(x)\n",
    "    y = agent.model(x)['return'].detach().numpy().flatten()\n",
    "    tmp_df[x_0] = y\n",
    "    df.append(tmp_df)\n",
    "\n",
    "df = pd.concat(df, axis=1)\n",
    "plt.figure(figsize=(30,10))\n",
    "sns.heatmap(df, cmap='coolwarm')\n",
    "plt.show()"
   ]
  },
  {
   "cell_type": "code",
   "execution_count": null,
   "metadata": {},
   "outputs": [],
   "source": [
    "low_0 = env.observation_space.low[0]\n",
    "high_0 = env.observation_space.high[0]\n",
    "low_1 = env.observation_space.low[1]\n",
    "high_1 = env.observation_space.high[1]\n",
    "\n",
    "df = []\n",
    "for x_0 in np.arange(low_0, high_0,0.05):\n",
    "    x=[]\n",
    "    tmp_df = pd.DataFrame(index=np.arange(low_1, high_1,0.01))\n",
    "    for x_1 in np.arange(low_1, high_1,0.01):\n",
    "        x.append([x_0, x_1])\n",
    "\n",
    "    x = torch.FloatTensor(x)\n",
    "    y = agent.model(x)['policy'].detach().numpy()\n",
    "    tmp_df[x_0] = y.argmax(1)\n",
    "    df.append(tmp_df)\n",
    "\n",
    "df = pd.concat(df, axis=1)\n",
    "plt.figure(figsize=(30,10))\n",
    "sns.heatmap(df, cmap='coolwarm')\n",
    "plt.show()"
   ]
  },
  {
   "cell_type": "code",
   "execution_count": null,
   "metadata": {},
   "outputs": [],
   "source": [
    "low_0 = env.observation_space.low[0]\n",
    "high_0 = env.observation_space.high[0]\n",
    "low_1 = env.observation_space.low[1]\n",
    "high_1 = env.observation_space.high[1]\n",
    "\n",
    "df = []\n",
    "for x_0 in np.arange(low_0, high_0,0.05):\n",
    "    x=[]\n",
    "    tmp_df = pd.DataFrame(index=np.arange(low_1, high_1,0.01))\n",
    "    for x_1 in np.arange(low_1, high_1,0.01):\n",
    "        x.append([x_0, x_1])\n",
    "\n",
    "    x = torch.FloatTensor(x)\n",
    "    y = agent.model(x)['policy'].detach()#.numpy()\n",
    "    y = Categorical(logits=y)\n",
    "    tmp_df[x_0] = y.entropy()\n",
    "    df.append(tmp_df)\n",
    "\n",
    "df = pd.concat(df, axis=1)\n",
    "plt.figure(figsize=(30,10))\n",
    "sns.heatmap(df, cmap='coolwarm')\n",
    "plt.show()"
   ]
  },
  {
   "cell_type": "code",
   "execution_count": null,
   "metadata": {},
   "outputs": [],
   "source": [
    "print(Categorical(\n",
    "    logits = torch.FloatTensor([0,0,0])\n",
    ").entropy())\n",
    "\n",
    "print(Categorical(\n",
    "    logits = torch.FloatTensor([1,1,1])\n",
    ").entropy())\n",
    "\n",
    "print(Categorical(\n",
    "    logits = torch.FloatTensor([1,0,1])\n",
    ").entropy())\n",
    "\n",
    "print(Categorical(\n",
    "    logits = torch.FloatTensor([0,100,0])\n",
    ").entropy())\n",
    "\n",
    "print(Categorical(\n",
    "    logits =agent.model(x)['policy'].detach()\n",
    ").entropy())\n"
   ]
  },
  {
   "cell_type": "code",
   "execution_count": null,
   "metadata": {},
   "outputs": [],
   "source": [
    "a = Categorical(\n",
    "    logits = torch.FloatTensor([1,20,50])\n",
    ")\n",
    "print(a.entropy())"
   ]
  },
  {
   "cell_type": "code",
   "execution_count": null,
   "metadata": {},
   "outputs": [],
   "source": []
  },
  {
   "cell_type": "code",
   "execution_count": null,
   "metadata": {},
   "outputs": [],
   "source": [
    "x=[]\n",
    "for x_0 in np.arange(low_0, high_0,0.05):\n",
    "    tmp_df = pd.DataFrame(index=np.arange(low_1, high_1,0.01))\n",
    "    for x_1 in np.arange(low_1, high_1,0.01):\n",
    "        x.append([x_0, x_1])"
   ]
  },
  {
   "cell_type": "code",
   "execution_count": null,
   "metadata": {},
   "outputs": [],
   "source": [
    "x = torch.FloatTensor(x)\n",
    "print(x.size())\n",
    "out = agent.model(x)\n",
    "policy = out['policy'].detach()\n",
    "return_v = out['return'].detach()\n",
    "value = out['value'].detach()"
   ]
  },
  {
   "cell_type": "code",
   "execution_count": null,
   "metadata": {},
   "outputs": [],
   "source": [
    "policy.argmax(1)"
   ]
  },
  {
   "cell_type": "code",
   "execution_count": null,
   "metadata": {},
   "outputs": [],
   "source": [
    "print(Categorical(logits=policy).entropy())\n",
    "print(Categorical(logits=policy).probs)"
   ]
  },
  {
   "cell_type": "code",
   "execution_count": null,
   "metadata": {},
   "outputs": [],
   "source": []
  }
 ],
 "metadata": {
  "kernelspec": {
   "display_name": "Python 3",
   "language": "python",
   "name": "python3"
  },
  "language_info": {
   "codemirror_mode": {
    "name": "ipython",
    "version": 3
   },
   "file_extension": ".py",
   "mimetype": "text/x-python",
   "name": "python",
   "nbconvert_exporter": "python",
   "pygments_lexer": "ipython3",
   "version": "3.6.5"
  }
 },
 "nbformat": 4,
 "nbformat_minor": 2
}
